{
 "cells": [
  {
   "cell_type": "code",
   "execution_count": 27,
   "id": "ee69c5ff-11c4-41f6-ab9f-11c6bf774623",
   "metadata": {},
   "outputs": [
    {
     "name": "stdout",
     "output_type": "stream",
     "text": [
      "arr1:\n",
      " [[1 2 3]\n",
      " [4 5 6]]\n",
      "arr2:\n",
      " [[ 7  8  9]\n",
      " [10 11 12]]\n",
      "concatenated array:\n",
      " [[ 1  2  3]\n",
      " [ 4  5  6]\n",
      " [ 7  8  9]\n",
      " [10 11 12]]\n"
     ]
    }
   ],
   "source": [
    "import numpy as np\n",
    "arr1=np.array([[1,2,3],[4,5,6]])\n",
    "print(\"arr1:\\n\",arr1)\n",
    "arr2=np.array([[7,8,9],[10,11,12]])\n",
    "print(\"arr1:\\n\",arr1)\n",
    "arr=np.concatenate((arr1,arr2),axis=0)\n",
    "print(\"concatenated array:\\n\",arr)\n"
   ]
  },
  {
   "cell_type": "code",
   "execution_count": 36,
   "id": "47a01d03-e1cb-4c5b-bfa6-2da22793b7b5",
   "metadata": {},
   "outputs": [
    {
     "name": "stdout",
     "output_type": "stream",
     "text": [
      "array:\n",
      " [1 2 3 4 5 6 7 8]\n",
      "[array([1]), array([2]), array([3]), array([4]), array([5]), array([6]), array([7]), array([8])]\n"
     ]
    }
   ],
   "source": [
    "import numpy as np\n",
    "array=np.array([1,2,3,4,5,6,7,8])\n",
    "print(\"array:\\n\",array)\n",
    "arr=np.split(array,8)\n",
    "print(arr)\n",
    "\n",
    "\n"
   ]
  },
  {
   "cell_type": "code",
   "execution_count": 42,
   "id": "5c6e85f9-a8e7-4be2-9a1e-fee31807af44",
   "metadata": {},
   "outputs": [
    {
     "name": "stdout",
     "output_type": "stream",
     "text": [
      "array:\n",
      " [1 2 3 4 5 6 7 8]\n",
      "[array([1]), array([2]), array([3]), array([4]), array([5]), array([6]), array([7]), array([8]), array([], dtype=int32)]\n"
     ]
    }
   ],
   "source": [
    "import numpy as np\n",
    "array=np.array([1,2,3,4,5,6,7,8])\n",
    "print(\"array:\\n\",array)\n",
    "arr=np.array_split(array,9)\n",
    "print(arr)"
   ]
  },
  {
   "cell_type": "code",
   "execution_count": 49,
   "id": "a31c1001-49cf-402c-9e04-340ccc6bbfa3",
   "metadata": {},
   "outputs": [
    {
     "name": "stdout",
     "output_type": "stream",
     "text": [
      "array:\n",
      " [[1 2]\n",
      " [3 4]\n",
      " [5 6]\n",
      " [7 8]]\n",
      "[array([[1, 2],\n",
      "       [3, 4]]), array([[5, 6]]), array([[7, 8]])]\n"
     ]
    }
   ],
   "source": [
    "import numpy as np\n",
    "array=np.array([[1,2],[3,4],[5,6],[7,8]])\n",
    "print(\"array:\\n\",array)\n",
    "arr=np.array_split(array,3)\n",
    "print(arr)"
   ]
  },
  {
   "cell_type": "code",
   "execution_count": 62,
   "id": "2770d7e1-e208-47ad-b126-2e5d7d028506",
   "metadata": {},
   "outputs": [
    {
     "name": "stdout",
     "output_type": "stream",
     "text": [
      "array:\n",
      " [[1 2]\n",
      " [3 4]\n",
      " [5 6]\n",
      " [7 8]]\n",
      "[array([[1],\n",
      "       [3],\n",
      "       [5],\n",
      "       [7]]), array([[2],\n",
      "       [4],\n",
      "       [6],\n",
      "       [8]])]\n"
     ]
    }
   ],
   "source": [
    "import numpy as np\n",
    "array=np.array([[1,2],[3,4],[5,6],[7,8]])\n",
    "print(\"array:\\n\",array)\n",
    "arr=np.hsplit(array,2)\n",
    "print(arr)"
   ]
  },
  {
   "cell_type": "code",
   "execution_count": 64,
   "id": "04ef884c-6ebd-491e-85b6-379ce3bb1d7a",
   "metadata": {},
   "outputs": [
    {
     "name": "stdout",
     "output_type": "stream",
     "text": [
      "array:\n",
      " [[1 2]\n",
      " [3 4]\n",
      " [5 6]\n",
      " [7 8]]\n",
      "[array([[1, 2],\n",
      "       [3, 4]]), array([[5, 6],\n",
      "       [7, 8]])]\n"
     ]
    }
   ],
   "source": [
    "import numpy as np\n",
    "array=np.array([[1,2],[3,4],[5,6],[7,8]])\n",
    "print(\"array:\\n\",array)\n",
    "arr=np.vsplit(array,2)\n",
    "print(arr)"
   ]
  },
  {
   "cell_type": "code",
   "execution_count": 70,
   "id": "60920a19-b6c7-452b-ab19-04d87163e04b",
   "metadata": {},
   "outputs": [
    {
     "name": "stdout",
     "output_type": "stream",
     "text": [
      "array:\n",
      " [1 2 3 4 5 6 7 8]\n",
      "[array([1, 2, 3, 4]), array([5, 6, 7, 8])]\n"
     ]
    }
   ],
   "source": [
    "import numpy as np\n",
    "array=np.array([1,2,3,4,5,6,7,8])\n",
    "print(\"array:\\n\",array)\n",
    "arr=np.hsplit(array,2)\n",
    "print(arr)"
   ]
  },
  {
   "cell_type": "code",
   "execution_count": 3,
   "id": "f25e81ee-a71f-4fc0-80eb-e2e7ee4c14d1",
   "metadata": {},
   "outputs": [
    {
     "name": "stdout",
     "output_type": "stream",
     "text": [
      "array:\n",
      " [1 2 3 4 5 6 7 8]\n"
     ]
    }
   ],
   "source": [
    "import numpy as np\n",
    "array=np.array([1,2,3,4,5,6,7,8])\n",
    "print(\"array:\\n\",array)\n",
    "# cannot be executed \n",
    "arr=np.vsplit(array,8)"
   ]
  },
  {
   "cell_type": "code",
   "execution_count": 98,
   "id": "9576c25c-8b17-43c2-9d94-a543bdee9f73",
   "metadata": {},
   "outputs": [
    {
     "name": "stdout",
     "output_type": "stream",
     "text": [
      "array:\n",
      " [[1 2 3]\n",
      " [3 4 5]\n",
      " [1 2 3]]\n",
      "Rank:\n",
      " 2\n",
      "\n",
      "Trace:\n",
      " 8\n",
      "\n",
      "Determinent:\n",
      " 0.0\n"
     ]
    },
    {
     "ename": "LinAlgError",
     "evalue": "Singular matrix",
     "output_type": "error",
     "traceback": [
      "\u001b[1;31m---------------------------------------------------------------------------\u001b[0m",
      "\u001b[1;31mLinAlgError\u001b[0m                               Traceback (most recent call last)",
      "Cell \u001b[1;32mIn[98], line 9\u001b[0m\n\u001b[0;32m      7\u001b[0m \u001b[38;5;28mprint\u001b[39m(\u001b[38;5;124m\"\u001b[39m\u001b[38;5;130;01m\\n\u001b[39;00m\u001b[38;5;124mTrace:\u001b[39m\u001b[38;5;130;01m\\n\u001b[39;00m\u001b[38;5;124m\"\u001b[39m,np\u001b[38;5;241m.\u001b[39mtrace(array))\n\u001b[0;32m      8\u001b[0m \u001b[38;5;28mprint\u001b[39m(\u001b[38;5;124m\"\u001b[39m\u001b[38;5;130;01m\\n\u001b[39;00m\u001b[38;5;124mDeterminent:\u001b[39m\u001b[38;5;130;01m\\n\u001b[39;00m\u001b[38;5;124m\"\u001b[39m,np\u001b[38;5;241m.\u001b[39mlinalg\u001b[38;5;241m.\u001b[39mdet(array))\n\u001b[1;32m----> 9\u001b[0m \u001b[38;5;28mprint\u001b[39m(\u001b[38;5;124m\"\u001b[39m\u001b[38;5;130;01m\\n\u001b[39;00m\u001b[38;5;124mInverse:\u001b[39m\u001b[38;5;130;01m\\n\u001b[39;00m\u001b[38;5;124m\"\u001b[39m,np\u001b[38;5;241m.\u001b[39mlinalg\u001b[38;5;241m.\u001b[39minv(array))\n\u001b[0;32m     10\u001b[0m \u001b[38;5;28mprint\u001b[39m(\u001b[38;5;124m\"\u001b[39m\u001b[38;5;130;01m\\n\u001b[39;00m\u001b[38;5;124mMatrix raised to the power 3:\u001b[39m\u001b[38;5;130;01m\\n\u001b[39;00m\u001b[38;5;124m\"\u001b[39m,np\u001b[38;5;241m.\u001b[39mlinalg\u001b[38;5;241m.\u001b[39mmatrix_power(array,\u001b[38;5;241m3\u001b[39m))\n",
      "File \u001b[1;32m~\\anaconda3\\Lib\\site-packages\\numpy\\linalg\\linalg.py:561\u001b[0m, in \u001b[0;36minv\u001b[1;34m(a)\u001b[0m\n\u001b[0;32m    559\u001b[0m signature \u001b[38;5;241m=\u001b[39m \u001b[38;5;124m'\u001b[39m\u001b[38;5;124mD->D\u001b[39m\u001b[38;5;124m'\u001b[39m \u001b[38;5;28;01mif\u001b[39;00m isComplexType(t) \u001b[38;5;28;01melse\u001b[39;00m \u001b[38;5;124m'\u001b[39m\u001b[38;5;124md->d\u001b[39m\u001b[38;5;124m'\u001b[39m\n\u001b[0;32m    560\u001b[0m extobj \u001b[38;5;241m=\u001b[39m get_linalg_error_extobj(_raise_linalgerror_singular)\n\u001b[1;32m--> 561\u001b[0m ainv \u001b[38;5;241m=\u001b[39m _umath_linalg\u001b[38;5;241m.\u001b[39minv(a, signature\u001b[38;5;241m=\u001b[39msignature, extobj\u001b[38;5;241m=\u001b[39mextobj)\n\u001b[0;32m    562\u001b[0m \u001b[38;5;28;01mreturn\u001b[39;00m wrap(ainv\u001b[38;5;241m.\u001b[39mastype(result_t, copy\u001b[38;5;241m=\u001b[39m\u001b[38;5;28;01mFalse\u001b[39;00m))\n",
      "File \u001b[1;32m~\\anaconda3\\Lib\\site-packages\\numpy\\linalg\\linalg.py:112\u001b[0m, in \u001b[0;36m_raise_linalgerror_singular\u001b[1;34m(err, flag)\u001b[0m\n\u001b[0;32m    111\u001b[0m \u001b[38;5;28;01mdef\u001b[39;00m \u001b[38;5;21m_raise_linalgerror_singular\u001b[39m(err, flag):\n\u001b[1;32m--> 112\u001b[0m     \u001b[38;5;28;01mraise\u001b[39;00m LinAlgError(\u001b[38;5;124m\"\u001b[39m\u001b[38;5;124mSingular matrix\u001b[39m\u001b[38;5;124m\"\u001b[39m)\n",
      "\u001b[1;31mLinAlgError\u001b[0m: Singular matrix"
     ]
    }
   ],
   "source": [
    "import numpy as np\n",
    "array=np.array([[1,2,3],\n",
    "                [3,4,5],\n",
    "                [1,2,3]])\n",
    "print(\"array:\\n\",array)\n",
    "print(\"Rank:\\n\",np.linalg.matrix_rank(array))\n",
    "print(\"\\nTrace:\\n\",np.trace(array))\n",
    "print(\"\\nDeterminent:\\n\",np.linalg.det(array))\n",
    "print(\"\\nInverse:\\n\",np.linalg.inv(array))\n",
    "print(\"\\nMatrix raised to the power 3:\\n\",np.linalg.matrix_power(array,3))"
   ]
  },
  {
   "cell_type": "code",
   "execution_count": 1,
   "id": "11f08750-b0c5-4dbd-8709-8350c4445a99",
   "metadata": {},
   "outputs": [
    {
     "name": "stdout",
     "output_type": "stream",
     "text": [
      "[[1 4]\n",
      " [2 5]\n",
      " [3 6]]\n"
     ]
    }
   ],
   "source": [
    "import numpy as np\n",
    "arr1 = np.array([1,2,3])\n",
    "arr2 = np.array([4,5,6])\n",
    "arr = np.stack((arr1, arr2),axis=1)\n",
    "print(arr)"
   ]
  },
  {
   "cell_type": "code",
   "execution_count": 3,
   "id": "e89cbdb2-b883-4a43-9132-9f40bbeef864",
   "metadata": {},
   "outputs": [
    {
     "name": "stdout",
     "output_type": "stream",
     "text": [
      "[1 2 3 4 5 6]\n"
     ]
    }
   ],
   "source": [
    "import numpy as np\n",
    "arr1 = np.array([1,2,3])\n",
    "arr2 = np.array([4,5,6])\n",
    "arr = np.hstack((arr1,arr2))\n",
    "print(arr)\n"
   ]
  },
  {
   "cell_type": "code",
   "execution_count": 5,
   "id": "373d3f45-10fb-4865-9da5-d29fd0ec372d",
   "metadata": {},
   "outputs": [
    {
     "name": "stdout",
     "output_type": "stream",
     "text": [
      "[1 2 3 4 5 6]\n"
     ]
    }
   ],
   "source": [
    "import numpy as np\n",
    "arr1 = np.array([1,2,3])\n",
    "arr2 = np.array([4,5,6])\n",
    "arr = np.concatenate((arr1,arr2),axis=0)\n",
    "print(arr)"
   ]
  },
  {
   "cell_type": "code",
   "execution_count": 7,
   "id": "8c4c0a53-3759-4ecd-acfb-f27ae7ab3753",
   "metadata": {},
   "outputs": [
    {
     "name": "stdout",
     "output_type": "stream",
     "text": [
      "[[1 2 3]\n",
      " [4 5 6]]\n"
     ]
    }
   ],
   "source": [
    "import numpy as np\n",
    "arr1 = np.array([1,2,3])\n",
    "arr2 = np.array([4,5,6])\n",
    "arr = np.vstack((arr1,arr2))\n",
    "print(arr)"
   ]
  },
  {
   "cell_type": "code",
   "execution_count": 11,
   "id": "d6d4426e-28ac-4b61-8569-a611d8a45f4c",
   "metadata": {},
   "outputs": [
    {
     "name": "stdout",
     "output_type": "stream",
     "text": [
      "[array([[1, 2],\n",
      "       [3, 4]]), array([[5, 6],\n",
      "       [7, 8]]), array([[ 9, 10],\n",
      "       [11, 12]])]\n"
     ]
    }
   ],
   "source": [
    "import numpy as np\n",
    "arr = np.array([[1,2],[3,4],[5,6],[7,8],[9,10],[11,12]])\n",
    "newarr = np.array_split(arr,3)\n",
    "print(newarr)"
   ]
  },
  {
   "cell_type": "code",
   "execution_count": 9,
   "id": "15f39206-c3dc-4a82-82d2-46f030d2c22d",
   "metadata": {},
   "outputs": [
    {
     "name": "stdout",
     "output_type": "stream",
     "text": [
      "[array([1, 2]), array([3, 4]), array([5, 6]), array([7, 8])]\n"
     ]
    }
   ],
   "source": [
    "import numpy as np\n",
    "arr = np.array([1, 2, 3, 4, 5, 6,7,8])\n",
    "newarr = np.split(arr,4 )\n",
    "print(newarr)"
   ]
  },
  {
   "cell_type": "code",
   "execution_count": 13,
   "id": "c4f576c0-2364-45de-8fef-fc46ff1e59ec",
   "metadata": {},
   "outputs": [
    {
     "name": "stdout",
     "output_type": "stream",
     "text": [
      "[array([[ 1],\n",
      "       [ 4],\n",
      "       [ 7],\n",
      "       [10],\n",
      "       [13],\n",
      "       [16]]), array([[ 2],\n",
      "       [ 5],\n",
      "       [ 8],\n",
      "       [11],\n",
      "       [14],\n",
      "       [17]]), array([[ 3],\n",
      "       [ 6],\n",
      "       [ 9],\n",
      "       [12],\n",
      "       [15],\n",
      "       [18]])]\n"
     ]
    }
   ],
   "source": [
    "import numpy as np\n",
    "arr = np.array([[1,2,3],[4,5,6],[7,8,9],[10,11,12],[13,14,15],[16,17,18]])\n",
    "newarr = np.hsplit(arr,3)\n",
    "print(newarr)"
   ]
  }
 ],
 "metadata": {
  "kernelspec": {
   "display_name": "Python 3 (ipykernel)",
   "language": "python",
   "name": "python3"
  },
  "language_info": {
   "codemirror_mode": {
    "name": "ipython",
    "version": 3
   },
   "file_extension": ".py",
   "mimetype": "text/x-python",
   "name": "python",
   "nbconvert_exporter": "python",
   "pygments_lexer": "ipython3",
   "version": "3.12.4"
  }
 },
 "nbformat": 4,
 "nbformat_minor": 5
}
