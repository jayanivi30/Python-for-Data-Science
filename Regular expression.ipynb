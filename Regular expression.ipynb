{
 "cells": [
  {
   "cell_type": "code",
   "execution_count": 15,
   "id": "8c8c864b-c161-44a9-b2bb-347cab1377c8",
   "metadata": {},
   "outputs": [
    {
     "name": "stdout",
     "output_type": "stream",
     "text": [
      "No match\n"
     ]
    }
   ],
   "source": [
    "import re\n",
    "txt=\"The rain in the Spain\"\n",
    "x=re.search(\"^The.*Spain$\",txt)\n",
    "\n",
    "if x:\n",
    "    print(\"Yes!We have a match!\")\n",
    "else:\n",
    "    print(\"No match\")"
   ]
  },
  {
   "cell_type": "code",
   "execution_count": 19,
   "id": "e893e80a-6409-4dda-988d-cb8e50962302",
   "metadata": {},
   "outputs": [
    {
     "name": "stdout",
     "output_type": "stream",
     "text": [
      "['rain']\n"
     ]
    }
   ],
   "source": [
    "import re\n",
    "txt=\"The rain in the Spain\"\n",
    "x=re.findall(\"rain\",txt)\n",
    "print(x)"
   ]
  },
  {
   "cell_type": "code",
   "execution_count": 45,
   "id": "e41edb9f-2292-49f9-b4c2-844208b2007f",
   "metadata": {},
   "outputs": [
    {
     "name": "stdout",
     "output_type": "stream",
     "text": [
      "['cat', 'dog', 'cat', 'Cat', 'dog']\n"
     ]
    }
   ],
   "source": [
    "import re\n",
    "txt=\"The cat sat on the mat.the dog barked at the cat.Cats and dogs live in the harmony.\"\n",
    "x=re.findall(\"cat|dog\",txt,re.IGNORECASE)\n",
    "print(x)\n",
    "\n",
    "\n",
    "\n"
   ]
  },
  {
   "cell_type": "code",
   "execution_count": 89,
   "id": "b28f7484-87a0-4a16-a87e-b52317ec6f87",
   "metadata": {},
   "outputs": [
    {
     "name": "stdout",
     "output_type": "stream",
     "text": [
      "[]\n"
     ]
    }
   ],
   "source": [
    "import re\n",
    "txt=\"The cat sat on the mat.the dog barked at the cat.Cats and dogs live in the harmony.\"\n",
    "x=re.findall(\"\\bc\",txt)\n",
    "print(x)\n",
    "\n"
   ]
  },
  {
   "cell_type": "code",
   "execution_count": 79,
   "id": "69284e1f-1c77-437f-9793-995b53efcb20",
   "metadata": {},
   "outputs": [
    {
     "name": "stdout",
     "output_type": "stream",
     "text": [
      "ThestarrainstarinstarthestarSpain\n"
     ]
    }
   ],
   "source": [
    "import re\n",
    "txt=\"The rain in the Spain\"\n",
    "x=re.sub(r'\\s','star',txt)\n",
    "print(x)\n"
   ]
  },
  {
   "cell_type": "code",
   "execution_count": 87,
   "id": "3d8c4940-2edf-482c-a116-cd61329dbf06",
   "metadata": {},
   "outputs": [
    {
     "name": "stdout",
     "output_type": "stream",
     "text": [
      "(12, 17)\n"
     ]
    }
   ],
   "source": [
    "import re\n",
    "txt=\"The rain in Spain\"\n",
    "x=re.search(r\"\\bS\\w+\",txt)\n",
    "print(x.span())"
   ]
  },
  {
   "cell_type": "code",
   "execution_count": null,
   "id": "aaaaf8e1-be89-4f6f-bd55-984c1b01260d",
   "metadata": {},
   "outputs": [],
   "source": []
  },
  {
   "cell_type": "code",
   "execution_count": null,
   "id": "e5ecf154-1362-4cb9-a7c1-aea47ef99b4a",
   "metadata": {},
   "outputs": [],
   "source": []
  }
 ],
 "metadata": {
  "kernelspec": {
   "display_name": "Python 3 (ipykernel)",
   "language": "python",
   "name": "python3"
  },
  "language_info": {
   "codemirror_mode": {
    "name": "ipython",
    "version": 3
   },
   "file_extension": ".py",
   "mimetype": "text/x-python",
   "name": "python",
   "nbconvert_exporter": "python",
   "pygments_lexer": "ipython3",
   "version": "3.12.4"
  }
 },
 "nbformat": 4,
 "nbformat_minor": 5
}
